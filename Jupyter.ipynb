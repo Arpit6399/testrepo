{
 "cells": [
  {
   "cell_type": "markdown",
   "metadata": {},
   "source": [
    "# _**SHIVA**_\n",
    "\n",
    "ADIYOGI\n",
    "---\n",
    "\n",
    "------\n",
    "\n",
    "*__ADIYOGI__*\n",
    "![](shiva.jpg)\n",
    "\n",
    "***\n",
    "\n",
    "[ADIYOGI SONG](https://www.youtube.com/watch?v=sq8yDhlUfUE)\n",
    "\n",
    "___\n",
    "\n",
    "\n",
    "| SHIVA | JYOTILINGA |\n",
    "| --- | --- |\n",
    "| TOTAL | 12 |\n",
    "\n",
    "***\n",
    "\n",
    "JYOTILINGA NAME \n",
    "1. MAHAKALESHWAR\n",
    "* BANARAS\n",
    "2. KEDARNATH\n",
    "- UTTRAKHAND\n",
    "3. AND SO ON..\n",
    "\n",
    "----------\n",
    "\n",
    "<DL>\n",
    "<DT>ADIYOGI</DT>\n",
    "<DD>ROOP OF <EM>YOGA</EM><DD>\n",
    "\n",
    "\n",
    "****"
   ]
  },
  {
   "cell_type": "markdown",
   "metadata": {},
   "source": []
  }
 ],
 "metadata": {
  "kernelspec": {
   "display_name": "Python 3.9.13 ('base')",
   "language": "python",
   "name": "python3"
  },
  "language_info": {
   "codemirror_mode": {
    "name": "ipython",
    "version": 3
   },
   "file_extension": ".py",
   "mimetype": "text/x-python",
   "name": "python",
   "nbconvert_exporter": "python",
   "pygments_lexer": "ipython3",
   "version": "3.9.13"
  },
  "orig_nbformat": 4,
  "vscode": {
   "interpreter": {
    "hash": "ad2bdc8ecc057115af97d19610ffacc2b4e99fae6737bb82f5d7fb13d2f2c186"
   }
  }
 },
 "nbformat": 4,
 "nbformat_minor": 2
}
